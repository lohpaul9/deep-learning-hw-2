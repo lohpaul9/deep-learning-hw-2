{
  "cells": [
    {
      "cell_type": "code",
      "execution_count": 8,
      "metadata": {
        "id": "WB7znsvhyuRH"
      },
      "outputs": [],
      "source": [
        "# torch and torchvision imports\n",
        "import torch\n",
        "import torchvision\n",
        "import torch.nn as nn\n",
        "import torchvision.transforms as transforms\n",
        "import torch.optim as optim\n",
        "import matplotlib.pyplot as plt\n",
        "import numpy as np\n",
        "\n",
        "device = torch.device('cuda' if torch.cuda.is_available() else 'cpu')"
      ]
    },
    {
      "cell_type": "markdown",
      "metadata": {
        "id": "TI6XEXSGyYkh"
      },
      "source": [
        "### (a) Plot the training and validation losses and errors as a function of the number of epochs\n",
        "\n",
        "\n",
        " The model currently does not achieve less than 12% validation error, you have to tweak the parameters to get it."
      ]
    },
    {
      "cell_type": "code",
      "execution_count": 9,
      "metadata": {
        "colab": {
          "base_uri": "https://localhost:8080/",
          "height": 499
        },
        "id": "AaNQQai_wON0",
        "outputId": "62b8f96e-d79e-45d5-8c72-8b3dbcf82c87"
      },
      "outputs": [
        {
          "output_type": "stream",
          "name": "stdout",
          "text": [
            "Files already downloaded and verified\n",
            "Files already downloaded and verified\n",
            "torch.Size([16, 3, 32, 32])\n",
            "torch.Size([16])\n"
          ]
        },
        {
          "output_type": "display_data",
          "data": {
            "text/plain": [
              "<Figure size 640x480 with 1 Axes>"
            ],
            "image/png": "[encoded data removed]"
          },
          "metadata": {}
        }
      ],
      "source": [
        "# Reading in the dataset\n",
        "# Augmentations for training\n",
        "transform_train = transforms.Compose([\n",
        "    transforms.RandomHorizontalFlip(),  # Randomly flip images horizontally\n",
        "    transforms.RandomCrop(32, padding=2, padding_mode='reflect'),  # Randomly crop images\n",
        "    transforms.RandomRotation(5, interpolation=transforms.InterpolationMode.BILINEAR, fill=(127, 127, 127)),\n",
        "    transforms.ToTensor(),\n",
        "    transforms.Normalize((0.5, 0.5, 0.5), (0.5, 0.5, 0.5))  # Standard normalization\n",
        "])\n",
        "\n",
        "# Transform for test data (no augmentations)\n",
        "transform_test = transforms.Compose([\n",
        "    transforms.ToTensor(),\n",
        "    transforms.Normalize((0.5, 0.5, 0.5), (0.5, 0.5, 0.5))\n",
        "])\n",
        "\n",
        "trainset = torchvision.datasets.CIFAR10(root='./data', train=True,\n",
        "                                        download=True, transform=transform_train)\n",
        "trainloader = torch.utils.data.DataLoader(trainset, batch_size=16,\n",
        "                                          shuffle=True)\n",
        "\n",
        "testset = torchvision.datasets.CIFAR10(root='./data', train=False,\n",
        "                                       download=True, transform=transform_test)\n",
        "testloader = torch.utils.data.DataLoader(testset, batch_size=16,\n",
        "                                         shuffle=False)\n",
        "\n",
        "classes = ('plane', 'car', 'bird', 'cat',\n",
        "           'deer', 'dog', 'frog', 'horse', 'ship', 'truck')\n",
        "\n",
        "# print the shape of the dataset\n",
        "dataiter = iter(trainloader)\n",
        "images, labels = next(dataiter)\n",
        "print(images.shape)\n",
        "print(labels.shape)\n",
        "\n",
        "# print one of the images\n",
        "img = images[0]\n",
        "img = img / 2 + 0.5     # unnormalize\n",
        "\n",
        "npimg = img.numpy()\n",
        "plt.imshow(np.transpose(npimg, (1, 2, 0)))\n",
        "plt.show()\n",
        "\n",
        "\n",
        "\n",
        "\n",
        "# Defining the model\n",
        "class View(nn.Module):\n",
        "    def __init__(self,o):\n",
        "        super().__init__()\n",
        "        self.o = o\n",
        "\n",
        "    def forward(self,x):\n",
        "        return x.view(-1, self.o)\n",
        "\n",
        "class allcnn_t(nn.Module):\n",
        "    def __init__(self, c1=96, c2= 192):\n",
        "        super().__init__()\n",
        "        d = 0.5\n",
        "\n",
        "\n",
        "        def convbn(channels_in,channels_out,kernel_size,stride=1,padding_size=0):\n",
        "            return nn.Sequential(\n",
        "                nn.Conv2d(channels_in,channels_out,kernel_size,stride=stride,padding=padding_size),\n",
        "                nn.ReLU(True),\n",
        "                nn.BatchNorm2d(channels_out))\n",
        "\n",
        "        self.model = nn.Sequential(\n",
        "            nn.Dropout(0.2),\n",
        "            convbn(3,c1,3,1,1),\n",
        "            convbn(c1,c1,3,1,1),\n",
        "            convbn(c1,c1,3,2,1),\n",
        "            nn.Dropout(d),\n",
        "            convbn(c1,c2,3,1,1),\n",
        "            convbn(c2,c2,3,1,1),\n",
        "            convbn(c2,c2,3,2,1),\n",
        "            nn.Dropout(d),\n",
        "            convbn(c2,c2,3,1,1),\n",
        "            convbn(c2,c2,3,1,1),\n",
        "            convbn(c2,10,1,1),\n",
        "            nn.AvgPool2d(8),\n",
        "            View(10))\n",
        "\n",
        "        print('Num parameters: ', sum([p.numel() for p in self.model.parameters()]))\n",
        "\n",
        "    def forward(self, x):\n",
        "        return self.model(x)"
      ]
    },
    {
      "cell_type": "code",
      "execution_count": 10,
      "metadata": {
        "id": "34JavUIgRpcP"
      },
      "outputs": [],
      "source": [
        "# The training loop\n",
        "\n",
        "def train(net, optimizer, criterion, train_loader, test_loader, epochs, model_name, plot):\n",
        "    model = net.to(device)\n",
        "    total_step = len(train_loader)\n",
        "    overall_step = 0\n",
        "    train_loss_values = []\n",
        "    train_error = []\n",
        "    val_loss_values = []\n",
        "    val_error = []\n",
        "    for epoch in range(epochs):\n",
        "        correct = 0\n",
        "        total = 0\n",
        "        running_loss = 0.0\n",
        "        if epoch == 40:\n",
        "          for op_params in optimizer.param_groups:\n",
        "            op_params['lr'] = 0.005\n",
        "        if epoch == 80:\n",
        "          for op_params in optimizer.param_groups:\n",
        "            op_params['lr'] = 0.001\n",
        "        for i, (images, labels) in enumerate(train_loader):\n",
        "            # Move tensors to configured device\n",
        "            images = images.to(device)\n",
        "            labels = labels.to(device)\n",
        "            #Forward Pass\n",
        "            outputs = model(images)\n",
        "            loss = criterion(outputs, labels)\n",
        "            optimizer.zero_grad()\n",
        "            loss.backward()\n",
        "            running_loss += loss.item()\n",
        "            _, predicted = torch.max(outputs.data, 1)\n",
        "            total += labels.size(0)\n",
        "            correct += (predicted == labels).sum().item()\n",
        "            optimizer.step()\n",
        "            if (i+1) % 1000 == 0:\n",
        "              print ('Epoch [{}/{}], Step [{}/{}], Loss: {:.4f}'.format(epoch+1, epochs, i+1, total_step, loss.item()))\n",
        "            if plot:\n",
        "              info = { ('loss_' + model_name): loss.item() }\n",
        "\n",
        "              # for tag, value in info.items():\n",
        "              #   logger.scalar_summary(tag, value, overall_step+1)\n",
        "        train_loss_values.append(running_loss)\n",
        "        train_error.append(100-100*correct/total)\n",
        "\n",
        "        model.eval()\n",
        "        with torch.no_grad():\n",
        "            correct = 0\n",
        "            total = 0\n",
        "            for i, (images, labels) in enumerate(test_loader):\n",
        "                images = images.to(device)\n",
        "                labels = labels.to(device)\n",
        "                outputs = model(images)\n",
        "                _, predicted = torch.max(outputs.data, 1)\n",
        "                total += labels.size(0)\n",
        "                correct += (predicted == labels).sum().item()\n",
        "\n",
        "        print('Accuracy of the network on the test images: {} %'.format(100 * correct / total))\n",
        "        val_error.append(100-100*correct/total)\n",
        "        val_loss_values.append(running_loss)\n",
        "\n",
        "        # save the model\n",
        "        torch.save(model.state_dict(), f'{model_name}_{epoch}.ckpt')\n",
        "    return val_error,val_loss_values,train_error,train_loss_values\n"
      ]
    },
    {
      "cell_type": "code",
      "execution_count": 11,
      "metadata": {
        "id": "Y7YvtAlERz61"
      },
      "outputs": [],
      "source": [
        "# model = allcnn_t().to(device)\n",
        "# epochs = 100\n",
        "criterion = nn.CrossEntropyLoss()\n",
        "# optimizer = optim.SGD(model.parameters(), lr=0.01, momentum=0.9, weight_decay=0.001, nesterov=True)\n",
        "# val_error,val_loss_values,train_error,train_loss_values= train(model, optimizer, criterion, trainloader, testloader, epochs, 'cnn_curve', True)"
      ]
    },
    {
      "cell_type": "code",
      "source": [
        "# load model\n",
        "model = allcnn_t().to(device)\n",
        "model.load_state_dict(torch.load('cnn_curve_99.ckpt'))"
      ],
      "metadata": {
        "id": "oL9Ijxe2iCSI",
        "outputId": "00ded7a2-e3cb-4297-99e6-7f887ecad6c2",
        "colab": {
          "base_uri": "https://localhost:8080/"
        }
      },
      "execution_count": 12,
      "outputs": [
        {
          "output_type": "stream",
          "name": "stdout",
          "text": [
            "Num parameters:  1667166\n"
          ]
        },
        {
          "output_type": "stream",
          "name": "stderr",
          "text": [
            "<ipython-input-12-55851b8441e2>:3: FutureWarning: You are using `torch.load` with `weights_only=False` (the current default value), which uses the default pickle module implicitly. It is possible to construct malicious pickle data which will execute arbitrary code during unpickling (See https://github.com/pytorch/pytorch/blob/main/SECURITY.md#untrusted-models for more details). In a future release, the default value for `weights_only` will be flipped to `True`. This limits the functions that could be executed during unpickling. Arbitrary objects will no longer be allowed to be loaded via this mode unless they are explicitly allowlisted by the user via `torch.serialization.add_safe_globals`. We recommend you start setting `weights_only=True` for any use case where you don't have full control of the loaded file. Please open an issue on GitHub for any issues related to this experimental feature.\n",
            "  model.load_state_dict(torch.load('cnn_curve_99.ckpt'))\n"
          ]
        },
        {
          "output_type": "execute_result",
          "data": {
            "text/plain": [
              "<All keys matched successfully>"
            ]
          },
          "metadata": {},
          "execution_count": 12
        }
      ]
    },
    {
      "cell_type": "code",
      "source": [
        "# verify the accuracy of the saved model\n",
        "def get_accuracy(model, test_loader):\n",
        "      model.eval()\n",
        "      with torch.no_grad():\n",
        "          correct = 0\n",
        "          total = 0\n",
        "          for i, (images, labels) in enumerate(test_loader):\n",
        "              images = images.to(device)\n",
        "              labels = labels.to(device)\n",
        "              outputs = model(images)\n",
        "              _, predicted = torch.max(outputs.data, 1)\n",
        "              total += labels.size(0)\n",
        "              correct += (predicted == labels).sum().item()\n",
        "\n",
        "      print('Accuracy of the network on the test images: {} %'.format(100 * correct / total))\n",
        "\n",
        "get_accuracy(model, testloader)\n"
      ],
      "metadata": {
        "id": "LcoqVKs-lg5C",
        "outputId": "0fe8c02e-d58b-4f99-f160-9a034d754f20",
        "colab": {
          "base_uri": "https://localhost:8080/"
        }
      },
      "execution_count": 13,
      "outputs": [
        {
          "output_type": "stream",
          "name": "stdout",
          "text": [
            "Accuracy of the network on the test images: 92.43 %\n"
          ]
        }
      ]
    },
    {
      "cell_type": "code",
      "source": [
        "eps_pixels = 2.0\n",
        "eps_normalized = (eps_pixels / 255.0) / 0.5\n",
        "\n",
        "def sanity_check_within_epsilon(unperturbed_img, perturbed_img, epsilon):\n",
        "    # Change the images back to pixel space\n",
        "    unperturbed_img = unperturbed_img.cpu().detach().numpy()\n",
        "    perturbed_img = perturbed_img.cpu().detach().numpy()\n",
        "    # Denormalize\n",
        "    unperturbed_img = (unperturbed_img * 0.5 + 0.5) * 255\n",
        "    perturbed_img = (perturbed_img * 0.5 + 0.5) * 255\n",
        "\n",
        "    # Get the difference\n",
        "    difference = unperturbed_img - perturbed_img\n",
        "    difference = np.absolute(difference)\n",
        "\n",
        "    # Check if the difference is within epsilon\n",
        "    return np.all(difference <= (epsilon + 0.0001))\n",
        "\n",
        "\n",
        "def adv_gradient_attack(model):\n",
        "    model.eval()\n",
        "    attack_set = torchvision.datasets.CIFAR10(\n",
        "        root='./data', train=True, download=True, transform=transform_test\n",
        "    )\n",
        "    subset_indices = torch.randperm(len(attack_set))[:100]\n",
        "    attack_set = torch.utils.data.Subset(attack_set, subset_indices)\n",
        "    attack_loader = torch.utils.data.DataLoader(attack_set, batch_size=100, shuffle=False)\n",
        "\n",
        "    base_images, labels = next(iter(attack_loader))\n",
        "    base_images = base_images.to(device)\n",
        "    labels = labels.to(device)\n",
        "    base_images.requires_grad = True\n",
        "\n",
        "    perturbed_images_list = [base_images]\n",
        "    imgs = []\n",
        "    accuracies = []\n",
        "    losses = []\n",
        "\n",
        "    for perturbation_round in range(6):\n",
        "        unperturbed = perturbed_images_list[-1]\n",
        "        model.zero_grad()  # Clear gradients\n",
        "        y = model(unperturbed)\n",
        "        loss = criterion(y, labels)\n",
        "        print(f\"Loss: {loss.item()}\")\n",
        "        losses.append(loss.item())\n",
        "\n",
        "        # Compute accuracy\n",
        "        _, predicted = torch.max(y.data, 1)\n",
        "        total = labels.size(0)\n",
        "        correct = (predicted == labels).sum().item()\n",
        "        accuracy = 100 * correct / total\n",
        "        print(f\"Accuracy: {accuracy:.2f}%\")\n",
        "        accuracies.append(accuracy)\n",
        "\n",
        "        # Store the perturbed image for plotting\n",
        "        img = unperturbed[0].cpu().detach().numpy() / 2 + 0.5  # Unnormalize\n",
        "        imgs.append(img)\n",
        "\n",
        "        loss.backward()\n",
        "        x_grad = unperturbed.grad.data.clone()\n",
        "        x_grad_sign = x_grad.sign()\n",
        "        perturbation = x_grad_sign * eps_normalized\n",
        "\n",
        "        # Apply perturbation and clamp values between 0 and 1\n",
        "        perturbed = torch.clamp(unperturbed + perturbation, -1, 1).detach()\n",
        "\n",
        "        print(\"All perturbations within sanity check\", sanity_check_within_epsilon(unperturbed, perturbed, eps_pixels))\n",
        "\n",
        "        perturbed.requires_grad = True\n",
        "        perturbed_images_list.append(perturbed)\n",
        "\n",
        "        # Zero the model gradients\n",
        "        model.zero_grad()\n",
        "\n",
        "    return imgs, accuracies, losses\n",
        "\n",
        "\n",
        "# Run the adversarial attack\n",
        "imgs, accuracies, losses = adv_gradient_attack(model)\n",
        "\n",
        "# Plot 5 images (1 row x 5 columns) with accuracy and loss displayed\n",
        "fig, axs = plt.subplots(1, 5, figsize=(15, 3))\n",
        "for i, (img, ax) in enumerate(zip(imgs[:5], axs)):\n",
        "    ax.imshow(np.transpose(img, (1, 2, 0)))  # Transpose for imshow\n",
        "    ax.set_title(f\"Acc: {accuracies[i]:.2f}%\\nLoss: {losses[i]:.4f}\", fontsize=10)\n",
        "    ax.axis('off')  # Turn off axis\n",
        "\n",
        "# Adjust layout\n",
        "plt.subplots_adjust(wspace=0.2, hspace=0.1)\n",
        "plt.show()\n"
      ],
      "metadata": {
        "id": "vC5LSUbDYiNN",
        "outputId": "9e8383f1-b4c0-455a-c36f-ea66e7b95ff9",
        "colab": {
          "base_uri": "https://localhost:8080/",
          "height": 602
        }
      },
      "execution_count": 15,
      "outputs": [
        {
          "output_type": "stream",
          "name": "stdout",
          "text": [
            "Files already downloaded and verified\n",
            "Loss: 0.003054305911064148\n",
            "Accuracy: 100.00%\n",
            "All perturbations within sanity check True\n",
            "Loss: 4.038646697998047\n",
            "Accuracy: 40.00%\n",
            "All perturbations within sanity check True\n",
            "Loss: 16.412954330444336\n",
            "Accuracy: 10.00%\n",
            "All perturbations within sanity check True\n",
            "Loss: 29.3362979888916\n",
            "Accuracy: 1.00%\n",
            "All perturbations within sanity check True\n",
            "Loss: 40.748016357421875\n",
            "Accuracy: 0.00%\n",
            "All perturbations within sanity check True\n",
            "Loss: 50.2912483215332\n",
            "Accuracy: 0.00%\n",
            "All perturbations within sanity check True\n"
          ]
        },
        {
          "output_type": "display_data",
          "data": {
            "text/plain": [
              "<Figure size 1500x300 with 5 Axes>"
            ],
            "image/png": "[encoded data removed]"
          },
          "metadata": {}
        }
      ]
    }
  ],
  "metadata": {
    "accelerator": "GPU",
    "colab": {
      "name": "PS2_Q5_solution.ipynb",
      "provenance": [],
      "gpuType": "T4"
    },
    "kernelspec": {
      "display_name": "Python 3",
      "name": "python3"
    },
    "language_info": {
      "codemirror_mode": {
        "name": "ipython",
        "version": 3
      },
      "file_extension": ".py",
      "mimetype": "text/x-python",
      "name": "python",
      "nbconvert_exporter": "python",
      "pygments_lexer": "ipython3",
      "version": "3.12.6"
    }
  },
  "nbformat": 4,
  "nbformat_minor": 0
}